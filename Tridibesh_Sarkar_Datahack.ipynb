{
 "cells": [
  {
   "cell_type": "code",
   "execution_count": 121,
   "id": "d5617e2a",
   "metadata": {},
   "outputs": [],
   "source": [
    "import pandas as pd\n",
    "import numpy as np\n",
    "import matplotlib.pyplot as plt\n",
    "import pandas as pd\n",
    "import numpy as np\n",
    "import seaborn as sns\n",
    "import matplotlib.pyplot as plt\n",
    "from sklearn.metrics import accuracy_score, classification_report, confusion_matrix, roc_curve, auc\n",
    "from sklearn.preprocessing import StandardScaler\n",
    "from sklearn.preprocessing import LabelEncoder\n",
    "from sklearn.linear_model import LogisticRegression\n",
    "from sklearn.feature_selection import SelectFromModel\n",
    "from sklearn.model_selection import train_test_split"
   ]
  },
  {
   "cell_type": "code",
   "execution_count": 122,
   "id": "c0ab997c",
   "metadata": {},
   "outputs": [],
   "source": [
    "df_features = pd.read_csv(\"training_set_features.csv\");\n",
    "df_labels = pd.read_csv(\"training_set_labels.csv\")\n"
   ]
  },
  {
   "cell_type": "markdown",
   "id": "65f6a45f",
   "metadata": {},
   "source": [
    "# Exploratory Data Analysis(EDA)\n",
    "\n",
    "\n",
    "    1.Here I processed and cleant the raw data .\n",
    "    2.there are 35 features .\n",
    "    3.Firstly I seperated the Categorical and Numerical Variables columns\n",
    "    4.Then I handeled the missing Values of Categorical variable by assigning the nan values as  missing category\n",
    "    5.Then I handeled the missing Values of Numerical variables by using the median\n",
    "    6.After that I scaled the data accordingly\n"
   ]
  },
  {
   "cell_type": "code",
   "execution_count": 123,
   "id": "584082b5",
   "metadata": {},
   "outputs": [
    {
     "data": {
      "text/html": [
       "<div>\n",
       "<style scoped>\n",
       "    .dataframe tbody tr th:only-of-type {\n",
       "        vertical-align: middle;\n",
       "    }\n",
       "\n",
       "    .dataframe tbody tr th {\n",
       "        vertical-align: top;\n",
       "    }\n",
       "\n",
       "    .dataframe thead th {\n",
       "        text-align: right;\n",
       "    }\n",
       "</style>\n",
       "<table border=\"1\" class=\"dataframe\">\n",
       "  <thead>\n",
       "    <tr style=\"text-align: right;\">\n",
       "      <th></th>\n",
       "      <th>respondent_id</th>\n",
       "      <th>xyz_concern</th>\n",
       "      <th>xyz_knowledge</th>\n",
       "      <th>behavioral_antiviral_meds</th>\n",
       "      <th>behavioral_avoidance</th>\n",
       "      <th>behavioral_face_mask</th>\n",
       "      <th>behavioral_wash_hands</th>\n",
       "      <th>behavioral_large_gatherings</th>\n",
       "      <th>behavioral_outside_home</th>\n",
       "      <th>behavioral_touch_face</th>\n",
       "      <th>...</th>\n",
       "      <th>income_poverty</th>\n",
       "      <th>marital_status</th>\n",
       "      <th>rent_or_own</th>\n",
       "      <th>employment_status</th>\n",
       "      <th>hhs_geo_region</th>\n",
       "      <th>census_msa</th>\n",
       "      <th>household_adults</th>\n",
       "      <th>household_children</th>\n",
       "      <th>employment_industry</th>\n",
       "      <th>employment_occupation</th>\n",
       "    </tr>\n",
       "  </thead>\n",
       "  <tbody>\n",
       "    <tr>\n",
       "      <th>0</th>\n",
       "      <td>0</td>\n",
       "      <td>1.0</td>\n",
       "      <td>0.0</td>\n",
       "      <td>0.0</td>\n",
       "      <td>0.0</td>\n",
       "      <td>0.0</td>\n",
       "      <td>0.0</td>\n",
       "      <td>0.0</td>\n",
       "      <td>1.0</td>\n",
       "      <td>1.0</td>\n",
       "      <td>...</td>\n",
       "      <td>Below Poverty</td>\n",
       "      <td>Not Married</td>\n",
       "      <td>Own</td>\n",
       "      <td>Not in Labor Force</td>\n",
       "      <td>oxchjgsf</td>\n",
       "      <td>Non-MSA</td>\n",
       "      <td>0.0</td>\n",
       "      <td>0.0</td>\n",
       "      <td>NaN</td>\n",
       "      <td>NaN</td>\n",
       "    </tr>\n",
       "    <tr>\n",
       "      <th>1</th>\n",
       "      <td>1</td>\n",
       "      <td>3.0</td>\n",
       "      <td>2.0</td>\n",
       "      <td>0.0</td>\n",
       "      <td>1.0</td>\n",
       "      <td>0.0</td>\n",
       "      <td>1.0</td>\n",
       "      <td>0.0</td>\n",
       "      <td>1.0</td>\n",
       "      <td>1.0</td>\n",
       "      <td>...</td>\n",
       "      <td>Below Poverty</td>\n",
       "      <td>Not Married</td>\n",
       "      <td>Rent</td>\n",
       "      <td>Employed</td>\n",
       "      <td>bhuqouqj</td>\n",
       "      <td>MSA, Not Principle  City</td>\n",
       "      <td>0.0</td>\n",
       "      <td>0.0</td>\n",
       "      <td>pxcmvdjn</td>\n",
       "      <td>xgwztkwe</td>\n",
       "    </tr>\n",
       "    <tr>\n",
       "      <th>2</th>\n",
       "      <td>2</td>\n",
       "      <td>1.0</td>\n",
       "      <td>1.0</td>\n",
       "      <td>0.0</td>\n",
       "      <td>1.0</td>\n",
       "      <td>0.0</td>\n",
       "      <td>0.0</td>\n",
       "      <td>0.0</td>\n",
       "      <td>0.0</td>\n",
       "      <td>0.0</td>\n",
       "      <td>...</td>\n",
       "      <td>&lt;= $75,000, Above Poverty</td>\n",
       "      <td>Not Married</td>\n",
       "      <td>Own</td>\n",
       "      <td>Employed</td>\n",
       "      <td>qufhixun</td>\n",
       "      <td>MSA, Not Principle  City</td>\n",
       "      <td>2.0</td>\n",
       "      <td>0.0</td>\n",
       "      <td>rucpziij</td>\n",
       "      <td>xtkaffoo</td>\n",
       "    </tr>\n",
       "    <tr>\n",
       "      <th>3</th>\n",
       "      <td>3</td>\n",
       "      <td>1.0</td>\n",
       "      <td>1.0</td>\n",
       "      <td>0.0</td>\n",
       "      <td>1.0</td>\n",
       "      <td>0.0</td>\n",
       "      <td>1.0</td>\n",
       "      <td>1.0</td>\n",
       "      <td>0.0</td>\n",
       "      <td>0.0</td>\n",
       "      <td>...</td>\n",
       "      <td>Below Poverty</td>\n",
       "      <td>Not Married</td>\n",
       "      <td>Rent</td>\n",
       "      <td>Not in Labor Force</td>\n",
       "      <td>lrircsnp</td>\n",
       "      <td>MSA, Principle City</td>\n",
       "      <td>0.0</td>\n",
       "      <td>0.0</td>\n",
       "      <td>NaN</td>\n",
       "      <td>NaN</td>\n",
       "    </tr>\n",
       "    <tr>\n",
       "      <th>4</th>\n",
       "      <td>4</td>\n",
       "      <td>2.0</td>\n",
       "      <td>1.0</td>\n",
       "      <td>0.0</td>\n",
       "      <td>1.0</td>\n",
       "      <td>0.0</td>\n",
       "      <td>1.0</td>\n",
       "      <td>1.0</td>\n",
       "      <td>0.0</td>\n",
       "      <td>1.0</td>\n",
       "      <td>...</td>\n",
       "      <td>&lt;= $75,000, Above Poverty</td>\n",
       "      <td>Married</td>\n",
       "      <td>Own</td>\n",
       "      <td>Employed</td>\n",
       "      <td>qufhixun</td>\n",
       "      <td>MSA, Not Principle  City</td>\n",
       "      <td>1.0</td>\n",
       "      <td>0.0</td>\n",
       "      <td>wxleyezf</td>\n",
       "      <td>emcorrxb</td>\n",
       "    </tr>\n",
       "    <tr>\n",
       "      <th>...</th>\n",
       "      <td>...</td>\n",
       "      <td>...</td>\n",
       "      <td>...</td>\n",
       "      <td>...</td>\n",
       "      <td>...</td>\n",
       "      <td>...</td>\n",
       "      <td>...</td>\n",
       "      <td>...</td>\n",
       "      <td>...</td>\n",
       "      <td>...</td>\n",
       "      <td>...</td>\n",
       "      <td>...</td>\n",
       "      <td>...</td>\n",
       "      <td>...</td>\n",
       "      <td>...</td>\n",
       "      <td>...</td>\n",
       "      <td>...</td>\n",
       "      <td>...</td>\n",
       "      <td>...</td>\n",
       "      <td>...</td>\n",
       "      <td>...</td>\n",
       "    </tr>\n",
       "    <tr>\n",
       "      <th>26702</th>\n",
       "      <td>26702</td>\n",
       "      <td>2.0</td>\n",
       "      <td>0.0</td>\n",
       "      <td>0.0</td>\n",
       "      <td>1.0</td>\n",
       "      <td>0.0</td>\n",
       "      <td>0.0</td>\n",
       "      <td>0.0</td>\n",
       "      <td>1.0</td>\n",
       "      <td>0.0</td>\n",
       "      <td>...</td>\n",
       "      <td>&lt;= $75,000, Above Poverty</td>\n",
       "      <td>Not Married</td>\n",
       "      <td>Own</td>\n",
       "      <td>Not in Labor Force</td>\n",
       "      <td>qufhixun</td>\n",
       "      <td>Non-MSA</td>\n",
       "      <td>0.0</td>\n",
       "      <td>0.0</td>\n",
       "      <td>NaN</td>\n",
       "      <td>NaN</td>\n",
       "    </tr>\n",
       "    <tr>\n",
       "      <th>26703</th>\n",
       "      <td>26703</td>\n",
       "      <td>1.0</td>\n",
       "      <td>2.0</td>\n",
       "      <td>0.0</td>\n",
       "      <td>1.0</td>\n",
       "      <td>0.0</td>\n",
       "      <td>1.0</td>\n",
       "      <td>0.0</td>\n",
       "      <td>0.0</td>\n",
       "      <td>0.0</td>\n",
       "      <td>...</td>\n",
       "      <td>&lt;= $75,000, Above Poverty</td>\n",
       "      <td>Not Married</td>\n",
       "      <td>Rent</td>\n",
       "      <td>Employed</td>\n",
       "      <td>lzgpxyit</td>\n",
       "      <td>MSA, Principle City</td>\n",
       "      <td>1.0</td>\n",
       "      <td>0.0</td>\n",
       "      <td>fcxhlnwr</td>\n",
       "      <td>cmhcxjea</td>\n",
       "    </tr>\n",
       "    <tr>\n",
       "      <th>26704</th>\n",
       "      <td>26704</td>\n",
       "      <td>2.0</td>\n",
       "      <td>2.0</td>\n",
       "      <td>0.0</td>\n",
       "      <td>1.0</td>\n",
       "      <td>1.0</td>\n",
       "      <td>1.0</td>\n",
       "      <td>1.0</td>\n",
       "      <td>0.0</td>\n",
       "      <td>1.0</td>\n",
       "      <td>...</td>\n",
       "      <td>NaN</td>\n",
       "      <td>Not Married</td>\n",
       "      <td>Own</td>\n",
       "      <td>NaN</td>\n",
       "      <td>lzgpxyit</td>\n",
       "      <td>MSA, Not Principle  City</td>\n",
       "      <td>0.0</td>\n",
       "      <td>0.0</td>\n",
       "      <td>NaN</td>\n",
       "      <td>NaN</td>\n",
       "    </tr>\n",
       "    <tr>\n",
       "      <th>26705</th>\n",
       "      <td>26705</td>\n",
       "      <td>1.0</td>\n",
       "      <td>1.0</td>\n",
       "      <td>0.0</td>\n",
       "      <td>0.0</td>\n",
       "      <td>0.0</td>\n",
       "      <td>0.0</td>\n",
       "      <td>0.0</td>\n",
       "      <td>0.0</td>\n",
       "      <td>NaN</td>\n",
       "      <td>...</td>\n",
       "      <td>&lt;= $75,000, Above Poverty</td>\n",
       "      <td>Married</td>\n",
       "      <td>Rent</td>\n",
       "      <td>Employed</td>\n",
       "      <td>lrircsnp</td>\n",
       "      <td>Non-MSA</td>\n",
       "      <td>1.0</td>\n",
       "      <td>0.0</td>\n",
       "      <td>fcxhlnwr</td>\n",
       "      <td>haliazsg</td>\n",
       "    </tr>\n",
       "    <tr>\n",
       "      <th>26706</th>\n",
       "      <td>26706</td>\n",
       "      <td>0.0</td>\n",
       "      <td>0.0</td>\n",
       "      <td>0.0</td>\n",
       "      <td>1.0</td>\n",
       "      <td>0.0</td>\n",
       "      <td>0.0</td>\n",
       "      <td>0.0</td>\n",
       "      <td>0.0</td>\n",
       "      <td>0.0</td>\n",
       "      <td>...</td>\n",
       "      <td>&lt;= $75,000, Above Poverty</td>\n",
       "      <td>Married</td>\n",
       "      <td>Own</td>\n",
       "      <td>Not in Labor Force</td>\n",
       "      <td>mlyzmhmf</td>\n",
       "      <td>MSA, Principle City</td>\n",
       "      <td>1.0</td>\n",
       "      <td>0.0</td>\n",
       "      <td>NaN</td>\n",
       "      <td>NaN</td>\n",
       "    </tr>\n",
       "  </tbody>\n",
       "</table>\n",
       "<p>26707 rows × 36 columns</p>\n",
       "</div>"
      ],
      "text/plain": [
       "       respondent_id  xyz_concern  xyz_knowledge  behavioral_antiviral_meds  \\\n",
       "0                  0          1.0            0.0                        0.0   \n",
       "1                  1          3.0            2.0                        0.0   \n",
       "2                  2          1.0            1.0                        0.0   \n",
       "3                  3          1.0            1.0                        0.0   \n",
       "4                  4          2.0            1.0                        0.0   \n",
       "...              ...          ...            ...                        ...   \n",
       "26702          26702          2.0            0.0                        0.0   \n",
       "26703          26703          1.0            2.0                        0.0   \n",
       "26704          26704          2.0            2.0                        0.0   \n",
       "26705          26705          1.0            1.0                        0.0   \n",
       "26706          26706          0.0            0.0                        0.0   \n",
       "\n",
       "       behavioral_avoidance  behavioral_face_mask  behavioral_wash_hands  \\\n",
       "0                       0.0                   0.0                    0.0   \n",
       "1                       1.0                   0.0                    1.0   \n",
       "2                       1.0                   0.0                    0.0   \n",
       "3                       1.0                   0.0                    1.0   \n",
       "4                       1.0                   0.0                    1.0   \n",
       "...                     ...                   ...                    ...   \n",
       "26702                   1.0                   0.0                    0.0   \n",
       "26703                   1.0                   0.0                    1.0   \n",
       "26704                   1.0                   1.0                    1.0   \n",
       "26705                   0.0                   0.0                    0.0   \n",
       "26706                   1.0                   0.0                    0.0   \n",
       "\n",
       "       behavioral_large_gatherings  behavioral_outside_home  \\\n",
       "0                              0.0                      1.0   \n",
       "1                              0.0                      1.0   \n",
       "2                              0.0                      0.0   \n",
       "3                              1.0                      0.0   \n",
       "4                              1.0                      0.0   \n",
       "...                            ...                      ...   \n",
       "26702                          0.0                      1.0   \n",
       "26703                          0.0                      0.0   \n",
       "26704                          1.0                      0.0   \n",
       "26705                          0.0                      0.0   \n",
       "26706                          0.0                      0.0   \n",
       "\n",
       "       behavioral_touch_face  ...             income_poverty  marital_status  \\\n",
       "0                        1.0  ...              Below Poverty     Not Married   \n",
       "1                        1.0  ...              Below Poverty     Not Married   \n",
       "2                        0.0  ...  <= $75,000, Above Poverty     Not Married   \n",
       "3                        0.0  ...              Below Poverty     Not Married   \n",
       "4                        1.0  ...  <= $75,000, Above Poverty         Married   \n",
       "...                      ...  ...                        ...             ...   \n",
       "26702                    0.0  ...  <= $75,000, Above Poverty     Not Married   \n",
       "26703                    0.0  ...  <= $75,000, Above Poverty     Not Married   \n",
       "26704                    1.0  ...                        NaN     Not Married   \n",
       "26705                    NaN  ...  <= $75,000, Above Poverty         Married   \n",
       "26706                    0.0  ...  <= $75,000, Above Poverty         Married   \n",
       "\n",
       "       rent_or_own   employment_status  hhs_geo_region  \\\n",
       "0              Own  Not in Labor Force        oxchjgsf   \n",
       "1             Rent            Employed        bhuqouqj   \n",
       "2              Own            Employed        qufhixun   \n",
       "3             Rent  Not in Labor Force        lrircsnp   \n",
       "4              Own            Employed        qufhixun   \n",
       "...            ...                 ...             ...   \n",
       "26702          Own  Not in Labor Force        qufhixun   \n",
       "26703         Rent            Employed        lzgpxyit   \n",
       "26704          Own                 NaN        lzgpxyit   \n",
       "26705         Rent            Employed        lrircsnp   \n",
       "26706          Own  Not in Labor Force        mlyzmhmf   \n",
       "\n",
       "                     census_msa  household_adults  household_children  \\\n",
       "0                       Non-MSA               0.0                 0.0   \n",
       "1      MSA, Not Principle  City               0.0                 0.0   \n",
       "2      MSA, Not Principle  City               2.0                 0.0   \n",
       "3           MSA, Principle City               0.0                 0.0   \n",
       "4      MSA, Not Principle  City               1.0                 0.0   \n",
       "...                         ...               ...                 ...   \n",
       "26702                   Non-MSA               0.0                 0.0   \n",
       "26703       MSA, Principle City               1.0                 0.0   \n",
       "26704  MSA, Not Principle  City               0.0                 0.0   \n",
       "26705                   Non-MSA               1.0                 0.0   \n",
       "26706       MSA, Principle City               1.0                 0.0   \n",
       "\n",
       "       employment_industry  employment_occupation  \n",
       "0                      NaN                    NaN  \n",
       "1                 pxcmvdjn               xgwztkwe  \n",
       "2                 rucpziij               xtkaffoo  \n",
       "3                      NaN                    NaN  \n",
       "4                 wxleyezf               emcorrxb  \n",
       "...                    ...                    ...  \n",
       "26702                  NaN                    NaN  \n",
       "26703             fcxhlnwr               cmhcxjea  \n",
       "26704                  NaN                    NaN  \n",
       "26705             fcxhlnwr               haliazsg  \n",
       "26706                  NaN                    NaN  \n",
       "\n",
       "[26707 rows x 36 columns]"
      ]
     },
     "execution_count": 123,
     "metadata": {},
     "output_type": "execute_result"
    }
   ],
   "source": [
    "df_features"
   ]
  },
  {
   "cell_type": "code",
   "execution_count": 124,
   "id": "0f8e50c1",
   "metadata": {},
   "outputs": [
    {
     "data": {
      "text/html": [
       "<div>\n",
       "<style scoped>\n",
       "    .dataframe tbody tr th:only-of-type {\n",
       "        vertical-align: middle;\n",
       "    }\n",
       "\n",
       "    .dataframe tbody tr th {\n",
       "        vertical-align: top;\n",
       "    }\n",
       "\n",
       "    .dataframe thead th {\n",
       "        text-align: right;\n",
       "    }\n",
       "</style>\n",
       "<table border=\"1\" class=\"dataframe\">\n",
       "  <thead>\n",
       "    <tr style=\"text-align: right;\">\n",
       "      <th></th>\n",
       "      <th>respondent_id</th>\n",
       "      <th>xyz_vaccine</th>\n",
       "      <th>seasonal_vaccine</th>\n",
       "    </tr>\n",
       "  </thead>\n",
       "  <tbody>\n",
       "    <tr>\n",
       "      <th>0</th>\n",
       "      <td>0</td>\n",
       "      <td>0</td>\n",
       "      <td>0</td>\n",
       "    </tr>\n",
       "    <tr>\n",
       "      <th>1</th>\n",
       "      <td>1</td>\n",
       "      <td>0</td>\n",
       "      <td>1</td>\n",
       "    </tr>\n",
       "    <tr>\n",
       "      <th>2</th>\n",
       "      <td>2</td>\n",
       "      <td>0</td>\n",
       "      <td>0</td>\n",
       "    </tr>\n",
       "    <tr>\n",
       "      <th>3</th>\n",
       "      <td>3</td>\n",
       "      <td>0</td>\n",
       "      <td>1</td>\n",
       "    </tr>\n",
       "    <tr>\n",
       "      <th>4</th>\n",
       "      <td>4</td>\n",
       "      <td>0</td>\n",
       "      <td>0</td>\n",
       "    </tr>\n",
       "    <tr>\n",
       "      <th>...</th>\n",
       "      <td>...</td>\n",
       "      <td>...</td>\n",
       "      <td>...</td>\n",
       "    </tr>\n",
       "    <tr>\n",
       "      <th>26702</th>\n",
       "      <td>26702</td>\n",
       "      <td>0</td>\n",
       "      <td>0</td>\n",
       "    </tr>\n",
       "    <tr>\n",
       "      <th>26703</th>\n",
       "      <td>26703</td>\n",
       "      <td>0</td>\n",
       "      <td>0</td>\n",
       "    </tr>\n",
       "    <tr>\n",
       "      <th>26704</th>\n",
       "      <td>26704</td>\n",
       "      <td>0</td>\n",
       "      <td>1</td>\n",
       "    </tr>\n",
       "    <tr>\n",
       "      <th>26705</th>\n",
       "      <td>26705</td>\n",
       "      <td>0</td>\n",
       "      <td>0</td>\n",
       "    </tr>\n",
       "    <tr>\n",
       "      <th>26706</th>\n",
       "      <td>26706</td>\n",
       "      <td>0</td>\n",
       "      <td>0</td>\n",
       "    </tr>\n",
       "  </tbody>\n",
       "</table>\n",
       "<p>26707 rows × 3 columns</p>\n",
       "</div>"
      ],
      "text/plain": [
       "       respondent_id  xyz_vaccine  seasonal_vaccine\n",
       "0                  0            0                 0\n",
       "1                  1            0                 1\n",
       "2                  2            0                 0\n",
       "3                  3            0                 1\n",
       "4                  4            0                 0\n",
       "...              ...          ...               ...\n",
       "26702          26702            0                 0\n",
       "26703          26703            0                 0\n",
       "26704          26704            0                 1\n",
       "26705          26705            0                 0\n",
       "26706          26706            0                 0\n",
       "\n",
       "[26707 rows x 3 columns]"
      ]
     },
     "execution_count": 124,
     "metadata": {},
     "output_type": "execute_result"
    }
   ],
   "source": [
    "df_labels"
   ]
  },
  {
   "cell_type": "markdown",
   "id": "7adfbfe9",
   "metadata": {},
   "source": [
    "## Extracting the Categorical and Numerical Features\n"
   ]
  },
  {
   "cell_type": "code",
   "execution_count": 125,
   "id": "32a6e781",
   "metadata": {},
   "outputs": [],
   "source": [
    "categorical_feac = [ feature for feature in df_features.columns if df_features[feature].dtypes == \"O\"]\n",
    "numerical_feac = [ feature for feature in df_features.columns if df_features[feature].dtypes != \"O\"]"
   ]
  },
  {
   "cell_type": "code",
   "execution_count": 126,
   "id": "24d9cfc6",
   "metadata": {},
   "outputs": [
    {
     "data": {
      "text/plain": [
       "['age_group',\n",
       " 'education',\n",
       " 'race',\n",
       " 'sex',\n",
       " 'income_poverty',\n",
       " 'marital_status',\n",
       " 'rent_or_own',\n",
       " 'employment_status',\n",
       " 'hhs_geo_region',\n",
       " 'census_msa',\n",
       " 'employment_industry',\n",
       " 'employment_occupation']"
      ]
     },
     "execution_count": 126,
     "metadata": {},
     "output_type": "execute_result"
    }
   ],
   "source": [
    "categorical_feac"
   ]
  },
  {
   "cell_type": "markdown",
   "id": "9375f677",
   "metadata": {},
   "source": [
    "## Checking Null Values for Categorical Features"
   ]
  },
  {
   "cell_type": "code",
   "execution_count": 127,
   "id": "91b56566",
   "metadata": {},
   "outputs": [
    {
     "data": {
      "text/plain": [
       "age_group                    0\n",
       "education                 1407\n",
       "race                         0\n",
       "sex                          0\n",
       "income_poverty            4423\n",
       "marital_status            1408\n",
       "rent_or_own               2042\n",
       "employment_status         1463\n",
       "hhs_geo_region               0\n",
       "census_msa                   0\n",
       "employment_industry      13330\n",
       "employment_occupation    13470\n",
       "dtype: int64"
      ]
     },
     "execution_count": 127,
     "metadata": {},
     "output_type": "execute_result"
    }
   ],
   "source": [
    "df_features[categorical_feac].isnull().sum()"
   ]
  },
  {
   "cell_type": "markdown",
   "id": "80575f9f",
   "metadata": {},
   "source": [
    "## Checking Null Values for Numerical Features"
   ]
  },
  {
   "cell_type": "code",
   "execution_count": 128,
   "id": "9a7d8eee",
   "metadata": {},
   "outputs": [
    {
     "data": {
      "text/plain": [
       "respondent_id                      0\n",
       "xyz_concern                       92\n",
       "xyz_knowledge                    116\n",
       "behavioral_antiviral_meds         71\n",
       "behavioral_avoidance             208\n",
       "behavioral_face_mask              19\n",
       "behavioral_wash_hands             42\n",
       "behavioral_large_gatherings       87\n",
       "behavioral_outside_home           82\n",
       "behavioral_touch_face            128\n",
       "doctor_recc_xyz                 2160\n",
       "doctor_recc_seasonal            2160\n",
       "chronic_med_condition            971\n",
       "child_under_6_months             820\n",
       "health_worker                    804\n",
       "health_insurance               12274\n",
       "opinion_xyz_vacc_effective       391\n",
       "opinion_xyz_risk                 388\n",
       "opinion_xyz_sick_from_vacc       395\n",
       "opinion_seas_vacc_effective      462\n",
       "opinion_seas_risk                514\n",
       "opinion_seas_sick_from_vacc      537\n",
       "household_adults                 249\n",
       "household_children               249\n",
       "dtype: int64"
      ]
     },
     "execution_count": 128,
     "metadata": {},
     "output_type": "execute_result"
    }
   ],
   "source": [
    "df_features[numerical_feac].isnull().sum()"
   ]
  },
  {
   "cell_type": "markdown",
   "id": "126547da",
   "metadata": {},
   "source": [
    "# Labelling the Categorical features using the Standard Label"
   ]
  },
  {
   "cell_type": "code",
   "execution_count": 129,
   "id": "fbbfec82",
   "metadata": {},
   "outputs": [],
   "source": [
    "label_en = LabelEncoder()\n",
    "\n",
    "\n",
    "for i in categorical_feac:\n",
    "    label = label_en.fit_transform(df_features[i])\n",
    "    df_features.drop(i, axis=1, inplace=True)\n",
    "    df_features[i] = label"
   ]
  },
  {
   "cell_type": "code",
   "execution_count": 130,
   "id": "71e842e8",
   "metadata": {},
   "outputs": [
    {
     "data": {
      "text/plain": [
       "age_group                0\n",
       "education                0\n",
       "race                     0\n",
       "sex                      0\n",
       "income_poverty           0\n",
       "marital_status           0\n",
       "rent_or_own              0\n",
       "employment_status        0\n",
       "hhs_geo_region           0\n",
       "census_msa               0\n",
       "employment_industry      0\n",
       "employment_occupation    0\n",
       "dtype: int64"
      ]
     },
     "execution_count": 130,
     "metadata": {},
     "output_type": "execute_result"
    }
   ],
   "source": [
    "df_features[categorical_feac].isnull().sum()"
   ]
  },
  {
   "cell_type": "code",
   "execution_count": 131,
   "id": "0896f025",
   "metadata": {},
   "outputs": [],
   "source": [
    "from sklearn.pipeline import Pipeline\n",
    "from sklearn.impute import SimpleImputer\n",
    "from sklearn.preprocessing import RobustScaler\n",
    "from sklearn.preprocessing import OneHotEncoder"
   ]
  },
  {
   "cell_type": "markdown",
   "id": "26d118e4",
   "metadata": {},
   "source": [
    "# Creating Pipelines to scale and replace null values both for Categorical and Numerical Variables"
   ]
  },
  {
   "cell_type": "code",
   "execution_count": 132,
   "id": "7d4d8b23",
   "metadata": {},
   "outputs": [],
   "source": [
    "numerical_transformer = Pipeline(steps = [\n",
    "    ('scaler', RobustScaler()),   \n",
    "    ('imputer', SimpleImputer(strategy='mean')),\n",
    "])"
   ]
  },
  {
   "cell_type": "code",
   "execution_count": 133,
   "id": "5035f4b8",
   "metadata": {},
   "outputs": [],
   "source": [
    "df_features[numerical_feac] = pd.DataFrame(numerical_transformer.fit_transform(df_features[numerical_feac]),columns=numerical_feac)"
   ]
  },
  {
   "cell_type": "code",
   "execution_count": 134,
   "id": "b5c18dac",
   "metadata": {
    "scrolled": true
   },
   "outputs": [
    {
     "data": {
      "text/plain": [
       "respondent_id                  0\n",
       "xyz_concern                    0\n",
       "xyz_knowledge                  0\n",
       "behavioral_antiviral_meds      0\n",
       "behavioral_avoidance           0\n",
       "behavioral_face_mask           0\n",
       "behavioral_wash_hands          0\n",
       "behavioral_large_gatherings    0\n",
       "behavioral_outside_home        0\n",
       "behavioral_touch_face          0\n",
       "doctor_recc_xyz                0\n",
       "doctor_recc_seasonal           0\n",
       "chronic_med_condition          0\n",
       "child_under_6_months           0\n",
       "health_worker                  0\n",
       "health_insurance               0\n",
       "opinion_xyz_vacc_effective     0\n",
       "opinion_xyz_risk               0\n",
       "opinion_xyz_sick_from_vacc     0\n",
       "opinion_seas_vacc_effective    0\n",
       "opinion_seas_risk              0\n",
       "opinion_seas_sick_from_vacc    0\n",
       "household_adults               0\n",
       "household_children             0\n",
       "dtype: int64"
      ]
     },
     "execution_count": 134,
     "metadata": {},
     "output_type": "execute_result"
    }
   ],
   "source": [
    "df_features[numerical_feac].isnull().sum()"
   ]
  },
  {
   "cell_type": "code",
   "execution_count": 135,
   "id": "c2989aae",
   "metadata": {},
   "outputs": [],
   "source": [
    "categorical_transformer = Pipeline(steps=[\n",
    "    ('scaler', RobustScaler()),\n",
    "])\n",
    "\n",
    "df_features[categorical_feac] = pd.DataFrame(categorical_transformer.fit_transform(df_features[categorical_feac]),columns=categorical_feac)"
   ]
  },
  {
   "cell_type": "code",
   "execution_count": 136,
   "id": "276c8a80",
   "metadata": {},
   "outputs": [
    {
     "data": {
      "text/plain": [
       "respondent_id                  0\n",
       "xyz_concern                    0\n",
       "xyz_knowledge                  0\n",
       "behavioral_antiviral_meds      0\n",
       "behavioral_avoidance           0\n",
       "behavioral_face_mask           0\n",
       "behavioral_wash_hands          0\n",
       "behavioral_large_gatherings    0\n",
       "behavioral_outside_home        0\n",
       "behavioral_touch_face          0\n",
       "doctor_recc_xyz                0\n",
       "doctor_recc_seasonal           0\n",
       "chronic_med_condition          0\n",
       "child_under_6_months           0\n",
       "health_worker                  0\n",
       "health_insurance               0\n",
       "opinion_xyz_vacc_effective     0\n",
       "opinion_xyz_risk               0\n",
       "opinion_xyz_sick_from_vacc     0\n",
       "opinion_seas_vacc_effective    0\n",
       "opinion_seas_risk              0\n",
       "opinion_seas_sick_from_vacc    0\n",
       "household_adults               0\n",
       "household_children             0\n",
       "age_group                      0\n",
       "education                      0\n",
       "race                           0\n",
       "sex                            0\n",
       "income_poverty                 0\n",
       "marital_status                 0\n",
       "rent_or_own                    0\n",
       "employment_status              0\n",
       "hhs_geo_region                 0\n",
       "census_msa                     0\n",
       "employment_industry            0\n",
       "employment_occupation          0\n",
       "dtype: int64"
      ]
     },
     "execution_count": 136,
     "metadata": {},
     "output_type": "execute_result"
    }
   ],
   "source": [
    "df_features.isnull().sum()"
   ]
  },
  {
   "cell_type": "code",
   "execution_count": 137,
   "id": "1ae91f2c",
   "metadata": {},
   "outputs": [],
   "source": [
    "X_train = df_features.drop([\"respondent_id\"],axis=1)\n",
    "Y_train = df_labels.drop([\"respondent_id\"],axis=1)"
   ]
  },
  {
   "cell_type": "code",
   "execution_count": 138,
   "id": "5d14352c",
   "metadata": {},
   "outputs": [],
   "source": [
    "X_train, X_test, y_train, y_test = train_test_split(\n",
    "    X_train, Y_train, test_size=0.2, random_state=42)"
   ]
  },
  {
   "cell_type": "markdown",
   "id": "99010874",
   "metadata": {},
   "source": [
    "# Using ML Algorithms\n",
    "\n",
    "\n",
    "here I used 2 major Classification methods \n",
    "        1.Logistic Regression\n",
    "        2.SVM"
   ]
  },
  {
   "cell_type": "code",
   "execution_count": 139,
   "id": "985aa9a6",
   "metadata": {},
   "outputs": [
    {
     "data": {
      "text/html": [
       "<div>\n",
       "<style scoped>\n",
       "    .dataframe tbody tr th:only-of-type {\n",
       "        vertical-align: middle;\n",
       "    }\n",
       "\n",
       "    .dataframe tbody tr th {\n",
       "        vertical-align: top;\n",
       "    }\n",
       "\n",
       "    .dataframe thead th {\n",
       "        text-align: right;\n",
       "    }\n",
       "</style>\n",
       "<table border=\"1\" class=\"dataframe\">\n",
       "  <thead>\n",
       "    <tr style=\"text-align: right;\">\n",
       "      <th></th>\n",
       "      <th>xyz_concern</th>\n",
       "      <th>xyz_knowledge</th>\n",
       "      <th>behavioral_antiviral_meds</th>\n",
       "      <th>behavioral_avoidance</th>\n",
       "      <th>behavioral_face_mask</th>\n",
       "      <th>behavioral_wash_hands</th>\n",
       "      <th>behavioral_large_gatherings</th>\n",
       "      <th>behavioral_outside_home</th>\n",
       "      <th>behavioral_touch_face</th>\n",
       "      <th>doctor_recc_xyz</th>\n",
       "      <th>...</th>\n",
       "      <th>race</th>\n",
       "      <th>sex</th>\n",
       "      <th>income_poverty</th>\n",
       "      <th>marital_status</th>\n",
       "      <th>rent_or_own</th>\n",
       "      <th>employment_status</th>\n",
       "      <th>hhs_geo_region</th>\n",
       "      <th>census_msa</th>\n",
       "      <th>employment_industry</th>\n",
       "      <th>employment_occupation</th>\n",
       "    </tr>\n",
       "  </thead>\n",
       "  <tbody>\n",
       "    <tr>\n",
       "      <th>24706</th>\n",
       "      <td>0.0</td>\n",
       "      <td>0.0</td>\n",
       "      <td>0.0</td>\n",
       "      <td>0.0</td>\n",
       "      <td>0.0</td>\n",
       "      <td>0.0</td>\n",
       "      <td>0.0</td>\n",
       "      <td>1.0</td>\n",
       "      <td>0.0</td>\n",
       "      <td>0.000000</td>\n",
       "      <td>...</td>\n",
       "      <td>0.0</td>\n",
       "      <td>0.0</td>\n",
       "      <td>0.5</td>\n",
       "      <td>0.0</td>\n",
       "      <td>1.0</td>\n",
       "      <td>2.0</td>\n",
       "      <td>0.25</td>\n",
       "      <td>-0.5</td>\n",
       "      <td>0.076923</td>\n",
       "      <td>0.000000</td>\n",
       "    </tr>\n",
       "    <tr>\n",
       "      <th>5393</th>\n",
       "      <td>0.0</td>\n",
       "      <td>0.0</td>\n",
       "      <td>1.0</td>\n",
       "      <td>0.0</td>\n",
       "      <td>1.0</td>\n",
       "      <td>0.0</td>\n",
       "      <td>1.0</td>\n",
       "      <td>1.0</td>\n",
       "      <td>0.0</td>\n",
       "      <td>0.000000</td>\n",
       "      <td>...</td>\n",
       "      <td>0.0</td>\n",
       "      <td>1.0</td>\n",
       "      <td>0.0</td>\n",
       "      <td>1.0</td>\n",
       "      <td>0.0</td>\n",
       "      <td>0.0</td>\n",
       "      <td>0.25</td>\n",
       "      <td>-0.5</td>\n",
       "      <td>-0.153846</td>\n",
       "      <td>-1.384615</td>\n",
       "    </tr>\n",
       "    <tr>\n",
       "      <th>20898</th>\n",
       "      <td>-2.0</td>\n",
       "      <td>0.0</td>\n",
       "      <td>0.0</td>\n",
       "      <td>-1.0</td>\n",
       "      <td>0.0</td>\n",
       "      <td>0.0</td>\n",
       "      <td>0.0</td>\n",
       "      <td>1.0</td>\n",
       "      <td>-1.0</td>\n",
       "      <td>0.000000</td>\n",
       "      <td>...</td>\n",
       "      <td>0.0</td>\n",
       "      <td>1.0</td>\n",
       "      <td>1.0</td>\n",
       "      <td>0.0</td>\n",
       "      <td>2.0</td>\n",
       "      <td>0.0</td>\n",
       "      <td>1.00</td>\n",
       "      <td>-0.5</td>\n",
       "      <td>-0.076923</td>\n",
       "      <td>-0.153846</td>\n",
       "    </tr>\n",
       "    <tr>\n",
       "      <th>3429</th>\n",
       "      <td>-1.0</td>\n",
       "      <td>0.0</td>\n",
       "      <td>0.0</td>\n",
       "      <td>-1.0</td>\n",
       "      <td>0.0</td>\n",
       "      <td>-1.0</td>\n",
       "      <td>0.0</td>\n",
       "      <td>0.0</td>\n",
       "      <td>-1.0</td>\n",
       "      <td>0.000000</td>\n",
       "      <td>...</td>\n",
       "      <td>-1.0</td>\n",
       "      <td>0.0</td>\n",
       "      <td>1.0</td>\n",
       "      <td>1.0</td>\n",
       "      <td>0.0</td>\n",
       "      <td>0.0</td>\n",
       "      <td>-1.00</td>\n",
       "      <td>0.5</td>\n",
       "      <td>-1.384615</td>\n",
       "      <td>-0.538462</td>\n",
       "    </tr>\n",
       "    <tr>\n",
       "      <th>8731</th>\n",
       "      <td>-1.0</td>\n",
       "      <td>-1.0</td>\n",
       "      <td>0.0</td>\n",
       "      <td>-1.0</td>\n",
       "      <td>0.0</td>\n",
       "      <td>0.0</td>\n",
       "      <td>0.0</td>\n",
       "      <td>0.0</td>\n",
       "      <td>-1.0</td>\n",
       "      <td>0.000000</td>\n",
       "      <td>...</td>\n",
       "      <td>-3.0</td>\n",
       "      <td>0.0</td>\n",
       "      <td>-0.5</td>\n",
       "      <td>1.0</td>\n",
       "      <td>0.0</td>\n",
       "      <td>1.0</td>\n",
       "      <td>0.50</td>\n",
       "      <td>0.0</td>\n",
       "      <td>0.076923</td>\n",
       "      <td>0.000000</td>\n",
       "    </tr>\n",
       "    <tr>\n",
       "      <th>...</th>\n",
       "      <td>...</td>\n",
       "      <td>...</td>\n",
       "      <td>...</td>\n",
       "      <td>...</td>\n",
       "      <td>...</td>\n",
       "      <td>...</td>\n",
       "      <td>...</td>\n",
       "      <td>...</td>\n",
       "      <td>...</td>\n",
       "      <td>...</td>\n",
       "      <td>...</td>\n",
       "      <td>...</td>\n",
       "      <td>...</td>\n",
       "      <td>...</td>\n",
       "      <td>...</td>\n",
       "      <td>...</td>\n",
       "      <td>...</td>\n",
       "      <td>...</td>\n",
       "      <td>...</td>\n",
       "      <td>...</td>\n",
       "      <td>...</td>\n",
       "    </tr>\n",
       "    <tr>\n",
       "      <th>21575</th>\n",
       "      <td>0.0</td>\n",
       "      <td>0.0</td>\n",
       "      <td>0.0</td>\n",
       "      <td>-1.0</td>\n",
       "      <td>0.0</td>\n",
       "      <td>0.0</td>\n",
       "      <td>0.0</td>\n",
       "      <td>0.0</td>\n",
       "      <td>0.0</td>\n",
       "      <td>0.000000</td>\n",
       "      <td>...</td>\n",
       "      <td>0.0</td>\n",
       "      <td>1.0</td>\n",
       "      <td>0.0</td>\n",
       "      <td>1.0</td>\n",
       "      <td>0.0</td>\n",
       "      <td>1.0</td>\n",
       "      <td>1.00</td>\n",
       "      <td>0.0</td>\n",
       "      <td>0.076923</td>\n",
       "      <td>0.000000</td>\n",
       "    </tr>\n",
       "    <tr>\n",
       "      <th>5390</th>\n",
       "      <td>-1.0</td>\n",
       "      <td>0.0</td>\n",
       "      <td>0.0</td>\n",
       "      <td>-1.0</td>\n",
       "      <td>0.0</td>\n",
       "      <td>0.0</td>\n",
       "      <td>0.0</td>\n",
       "      <td>0.0</td>\n",
       "      <td>0.0</td>\n",
       "      <td>0.220312</td>\n",
       "      <td>...</td>\n",
       "      <td>0.0</td>\n",
       "      <td>1.0</td>\n",
       "      <td>-0.5</td>\n",
       "      <td>1.0</td>\n",
       "      <td>0.0</td>\n",
       "      <td>2.0</td>\n",
       "      <td>0.50</td>\n",
       "      <td>0.0</td>\n",
       "      <td>0.076923</td>\n",
       "      <td>0.000000</td>\n",
       "    </tr>\n",
       "    <tr>\n",
       "      <th>860</th>\n",
       "      <td>0.0</td>\n",
       "      <td>0.0</td>\n",
       "      <td>0.0</td>\n",
       "      <td>0.0</td>\n",
       "      <td>0.0</td>\n",
       "      <td>-1.0</td>\n",
       "      <td>0.0</td>\n",
       "      <td>0.0</td>\n",
       "      <td>0.0</td>\n",
       "      <td>0.000000</td>\n",
       "      <td>...</td>\n",
       "      <td>0.0</td>\n",
       "      <td>0.0</td>\n",
       "      <td>-0.5</td>\n",
       "      <td>0.0</td>\n",
       "      <td>0.0</td>\n",
       "      <td>0.0</td>\n",
       "      <td>1.00</td>\n",
       "      <td>0.5</td>\n",
       "      <td>-1.461538</td>\n",
       "      <td>-0.230769</td>\n",
       "    </tr>\n",
       "    <tr>\n",
       "      <th>15795</th>\n",
       "      <td>0.0</td>\n",
       "      <td>0.0</td>\n",
       "      <td>0.0</td>\n",
       "      <td>0.0</td>\n",
       "      <td>0.0</td>\n",
       "      <td>0.0</td>\n",
       "      <td>0.0</td>\n",
       "      <td>0.0</td>\n",
       "      <td>0.0</td>\n",
       "      <td>1.000000</td>\n",
       "      <td>...</td>\n",
       "      <td>-3.0</td>\n",
       "      <td>0.0</td>\n",
       "      <td>0.0</td>\n",
       "      <td>0.0</td>\n",
       "      <td>0.0</td>\n",
       "      <td>0.0</td>\n",
       "      <td>-0.25</td>\n",
       "      <td>0.0</td>\n",
       "      <td>-1.230769</td>\n",
       "      <td>-1.615385</td>\n",
       "    </tr>\n",
       "    <tr>\n",
       "      <th>23654</th>\n",
       "      <td>1.0</td>\n",
       "      <td>0.0</td>\n",
       "      <td>0.0</td>\n",
       "      <td>-1.0</td>\n",
       "      <td>0.0</td>\n",
       "      <td>0.0</td>\n",
       "      <td>0.0</td>\n",
       "      <td>1.0</td>\n",
       "      <td>0.0</td>\n",
       "      <td>0.000000</td>\n",
       "      <td>...</td>\n",
       "      <td>-3.0</td>\n",
       "      <td>1.0</td>\n",
       "      <td>-0.5</td>\n",
       "      <td>1.0</td>\n",
       "      <td>1.0</td>\n",
       "      <td>0.0</td>\n",
       "      <td>-0.50</td>\n",
       "      <td>-0.5</td>\n",
       "      <td>-0.615385</td>\n",
       "      <td>-0.461538</td>\n",
       "    </tr>\n",
       "  </tbody>\n",
       "</table>\n",
       "<p>21365 rows × 35 columns</p>\n",
       "</div>"
      ],
      "text/plain": [
       "       xyz_concern  xyz_knowledge  behavioral_antiviral_meds  \\\n",
       "24706          0.0            0.0                        0.0   \n",
       "5393           0.0            0.0                        1.0   \n",
       "20898         -2.0            0.0                        0.0   \n",
       "3429          -1.0            0.0                        0.0   \n",
       "8731          -1.0           -1.0                        0.0   \n",
       "...            ...            ...                        ...   \n",
       "21575          0.0            0.0                        0.0   \n",
       "5390          -1.0            0.0                        0.0   \n",
       "860            0.0            0.0                        0.0   \n",
       "15795          0.0            0.0                        0.0   \n",
       "23654          1.0            0.0                        0.0   \n",
       "\n",
       "       behavioral_avoidance  behavioral_face_mask  behavioral_wash_hands  \\\n",
       "24706                   0.0                   0.0                    0.0   \n",
       "5393                    0.0                   1.0                    0.0   \n",
       "20898                  -1.0                   0.0                    0.0   \n",
       "3429                   -1.0                   0.0                   -1.0   \n",
       "8731                   -1.0                   0.0                    0.0   \n",
       "...                     ...                   ...                    ...   \n",
       "21575                  -1.0                   0.0                    0.0   \n",
       "5390                   -1.0                   0.0                    0.0   \n",
       "860                     0.0                   0.0                   -1.0   \n",
       "15795                   0.0                   0.0                    0.0   \n",
       "23654                  -1.0                   0.0                    0.0   \n",
       "\n",
       "       behavioral_large_gatherings  behavioral_outside_home  \\\n",
       "24706                          0.0                      1.0   \n",
       "5393                           1.0                      1.0   \n",
       "20898                          0.0                      1.0   \n",
       "3429                           0.0                      0.0   \n",
       "8731                           0.0                      0.0   \n",
       "...                            ...                      ...   \n",
       "21575                          0.0                      0.0   \n",
       "5390                           0.0                      0.0   \n",
       "860                            0.0                      0.0   \n",
       "15795                          0.0                      0.0   \n",
       "23654                          0.0                      1.0   \n",
       "\n",
       "       behavioral_touch_face  doctor_recc_xyz  ...  race  sex  income_poverty  \\\n",
       "24706                    0.0         0.000000  ...   0.0  0.0             0.5   \n",
       "5393                     0.0         0.000000  ...   0.0  1.0             0.0   \n",
       "20898                   -1.0         0.000000  ...   0.0  1.0             1.0   \n",
       "3429                    -1.0         0.000000  ...  -1.0  0.0             1.0   \n",
       "8731                    -1.0         0.000000  ...  -3.0  0.0            -0.5   \n",
       "...                      ...              ...  ...   ...  ...             ...   \n",
       "21575                    0.0         0.000000  ...   0.0  1.0             0.0   \n",
       "5390                     0.0         0.220312  ...   0.0  1.0            -0.5   \n",
       "860                      0.0         0.000000  ...   0.0  0.0            -0.5   \n",
       "15795                    0.0         1.000000  ...  -3.0  0.0             0.0   \n",
       "23654                    0.0         0.000000  ...  -3.0  1.0            -0.5   \n",
       "\n",
       "       marital_status  rent_or_own  employment_status  hhs_geo_region  \\\n",
       "24706             0.0          1.0                2.0            0.25   \n",
       "5393              1.0          0.0                0.0            0.25   \n",
       "20898             0.0          2.0                0.0            1.00   \n",
       "3429              1.0          0.0                0.0           -1.00   \n",
       "8731              1.0          0.0                1.0            0.50   \n",
       "...               ...          ...                ...             ...   \n",
       "21575             1.0          0.0                1.0            1.00   \n",
       "5390              1.0          0.0                2.0            0.50   \n",
       "860               0.0          0.0                0.0            1.00   \n",
       "15795             0.0          0.0                0.0           -0.25   \n",
       "23654             1.0          1.0                0.0           -0.50   \n",
       "\n",
       "       census_msa  employment_industry  employment_occupation  \n",
       "24706        -0.5             0.076923               0.000000  \n",
       "5393         -0.5            -0.153846              -1.384615  \n",
       "20898        -0.5            -0.076923              -0.153846  \n",
       "3429          0.5            -1.384615              -0.538462  \n",
       "8731          0.0             0.076923               0.000000  \n",
       "...           ...                  ...                    ...  \n",
       "21575         0.0             0.076923               0.000000  \n",
       "5390          0.0             0.076923               0.000000  \n",
       "860           0.5            -1.461538              -0.230769  \n",
       "15795         0.0            -1.230769              -1.615385  \n",
       "23654        -0.5            -0.615385              -0.461538  \n",
       "\n",
       "[21365 rows x 35 columns]"
      ]
     },
     "execution_count": 139,
     "metadata": {},
     "output_type": "execute_result"
    }
   ],
   "source": [
    "X_train_cpy = X_train\n",
    "X_test_cpy = X_test\n",
    "X_train"
   ]
  },
  {
   "cell_type": "code",
   "execution_count": 140,
   "id": "d12593e3",
   "metadata": {},
   "outputs": [
    {
     "data": {
      "text/plain": [
       "Index(['doctor_recc_xyz', 'doctor_recc_seasonal', 'health_worker',\n",
       "       'health_insurance', 'opinion_xyz_vacc_effective', 'opinion_xyz_risk',\n",
       "       'opinion_seas_risk', 'age_group'],\n",
       "      dtype='object')"
      ]
     },
     "execution_count": 140,
     "metadata": {},
     "output_type": "execute_result"
    }
   ],
   "source": [
    "\n",
    "\n",
    "feature_sel_model = SelectFromModel(LogisticRegression()) # remember to set the seed, the random state in this function\n",
    "feature_sel_model.fit(X_train, y_train[\"xyz_vaccine\"])\n",
    "selected_feat = X_train.columns[(feature_sel_model.get_support())]\n",
    "\n",
    "selected_feat"
   ]
  },
  {
   "cell_type": "code",
   "execution_count": null,
   "id": "f2f5af20",
   "metadata": {},
   "outputs": [],
   "source": []
  },
  {
   "cell_type": "code",
   "execution_count": null,
   "id": "a2172cda",
   "metadata": {},
   "outputs": [],
   "source": []
  },
  {
   "cell_type": "code",
   "execution_count": 141,
   "id": "83b033d1",
   "metadata": {},
   "outputs": [],
   "source": [
    "X_train=X_train\n",
    "X_test = X_test"
   ]
  },
  {
   "cell_type": "code",
   "execution_count": 142,
   "id": "bda63c20",
   "metadata": {},
   "outputs": [
    {
     "data": {
      "text/html": [
       "<style>#sk-container-id-18 {color: black;background-color: white;}#sk-container-id-18 pre{padding: 0;}#sk-container-id-18 div.sk-toggleable {background-color: white;}#sk-container-id-18 label.sk-toggleable__label {cursor: pointer;display: block;width: 100%;margin-bottom: 0;padding: 0.3em;box-sizing: border-box;text-align: center;}#sk-container-id-18 label.sk-toggleable__label-arrow:before {content: \"▸\";float: left;margin-right: 0.25em;color: #696969;}#sk-container-id-18 label.sk-toggleable__label-arrow:hover:before {color: black;}#sk-container-id-18 div.sk-estimator:hover label.sk-toggleable__label-arrow:before {color: black;}#sk-container-id-18 div.sk-toggleable__content {max-height: 0;max-width: 0;overflow: hidden;text-align: left;background-color: #f0f8ff;}#sk-container-id-18 div.sk-toggleable__content pre {margin: 0.2em;color: black;border-radius: 0.25em;background-color: #f0f8ff;}#sk-container-id-18 input.sk-toggleable__control:checked~div.sk-toggleable__content {max-height: 200px;max-width: 100%;overflow: auto;}#sk-container-id-18 input.sk-toggleable__control:checked~label.sk-toggleable__label-arrow:before {content: \"▾\";}#sk-container-id-18 div.sk-estimator input.sk-toggleable__control:checked~label.sk-toggleable__label {background-color: #d4ebff;}#sk-container-id-18 div.sk-label input.sk-toggleable__control:checked~label.sk-toggleable__label {background-color: #d4ebff;}#sk-container-id-18 input.sk-hidden--visually {border: 0;clip: rect(1px 1px 1px 1px);clip: rect(1px, 1px, 1px, 1px);height: 1px;margin: -1px;overflow: hidden;padding: 0;position: absolute;width: 1px;}#sk-container-id-18 div.sk-estimator {font-family: monospace;background-color: #f0f8ff;border: 1px dotted black;border-radius: 0.25em;box-sizing: border-box;margin-bottom: 0.5em;}#sk-container-id-18 div.sk-estimator:hover {background-color: #d4ebff;}#sk-container-id-18 div.sk-parallel-item::after {content: \"\";width: 100%;border-bottom: 1px solid gray;flex-grow: 1;}#sk-container-id-18 div.sk-label:hover label.sk-toggleable__label {background-color: #d4ebff;}#sk-container-id-18 div.sk-serial::before {content: \"\";position: absolute;border-left: 1px solid gray;box-sizing: border-box;top: 0;bottom: 0;left: 50%;z-index: 0;}#sk-container-id-18 div.sk-serial {display: flex;flex-direction: column;align-items: center;background-color: white;padding-right: 0.2em;padding-left: 0.2em;position: relative;}#sk-container-id-18 div.sk-item {position: relative;z-index: 1;}#sk-container-id-18 div.sk-parallel {display: flex;align-items: stretch;justify-content: center;background-color: white;position: relative;}#sk-container-id-18 div.sk-item::before, #sk-container-id-18 div.sk-parallel-item::before {content: \"\";position: absolute;border-left: 1px solid gray;box-sizing: border-box;top: 0;bottom: 0;left: 50%;z-index: -1;}#sk-container-id-18 div.sk-parallel-item {display: flex;flex-direction: column;z-index: 1;position: relative;background-color: white;}#sk-container-id-18 div.sk-parallel-item:first-child::after {align-self: flex-end;width: 50%;}#sk-container-id-18 div.sk-parallel-item:last-child::after {align-self: flex-start;width: 50%;}#sk-container-id-18 div.sk-parallel-item:only-child::after {width: 0;}#sk-container-id-18 div.sk-dashed-wrapped {border: 1px dashed gray;margin: 0 0.4em 0.5em 0.4em;box-sizing: border-box;padding-bottom: 0.4em;background-color: white;}#sk-container-id-18 div.sk-label label {font-family: monospace;font-weight: bold;display: inline-block;line-height: 1.2em;}#sk-container-id-18 div.sk-label-container {text-align: center;}#sk-container-id-18 div.sk-container {/* jupyter's `normalize.less` sets `[hidden] { display: none; }` but bootstrap.min.css set `[hidden] { display: none !important; }` so we also need the `!important` here to be able to override the default hidden behavior on the sphinx rendered scikit-learn.org. See: https://github.com/scikit-learn/scikit-learn/issues/21755 */display: inline-block !important;position: relative;}#sk-container-id-18 div.sk-text-repr-fallback {display: none;}</style><div id=\"sk-container-id-18\" class=\"sk-top-container\"><div class=\"sk-text-repr-fallback\"><pre>LogisticRegression()</pre><b>In a Jupyter environment, please rerun this cell to show the HTML representation or trust the notebook. <br />On GitHub, the HTML representation is unable to render, please try loading this page with nbviewer.org.</b></div><div class=\"sk-container\" hidden><div class=\"sk-item\"><div class=\"sk-estimator sk-toggleable\"><input class=\"sk-toggleable__control sk-hidden--visually\" id=\"sk-estimator-id-22\" type=\"checkbox\" checked><label for=\"sk-estimator-id-22\" class=\"sk-toggleable__label sk-toggleable__label-arrow\">LogisticRegression</label><div class=\"sk-toggleable__content\"><pre>LogisticRegression()</pre></div></div></div></div></div>"
      ],
      "text/plain": [
       "LogisticRegression()"
      ]
     },
     "execution_count": 142,
     "metadata": {},
     "output_type": "execute_result"
    }
   ],
   "source": [
    "model1 = LogisticRegression()\n",
    "\n",
    "model1.fit(X_train, y_train[\"xyz_vaccine\"])"
   ]
  },
  {
   "cell_type": "code",
   "execution_count": null,
   "id": "02ce81d6",
   "metadata": {},
   "outputs": [],
   "source": []
  },
  {
   "cell_type": "code",
   "execution_count": 143,
   "id": "505e6b2f",
   "metadata": {},
   "outputs": [
    {
     "data": {
      "text/plain": [
       "Index(['doctor_recc_xyz', 'doctor_recc_seasonal', 'health_worker',\n",
       "       'health_insurance', 'opinion_seas_vacc_effective', 'opinion_seas_risk',\n",
       "       'opinion_seas_sick_from_vacc', 'age_group'],\n",
       "      dtype='object')"
      ]
     },
     "execution_count": 143,
     "metadata": {},
     "output_type": "execute_result"
    }
   ],
   "source": [
    "\n",
    "feature_sel_model = SelectFromModel(LogisticRegression()) # remember to set the seed, the random state in this function\n",
    "feature_sel_model.fit(X_train, y_train[\"seasonal_vaccine\"])\n",
    "selected_feat2 = X_train.columns[(feature_sel_model.get_support())]\n",
    "\n",
    "selected_feat2"
   ]
  },
  {
   "cell_type": "code",
   "execution_count": 144,
   "id": "3d080892",
   "metadata": {},
   "outputs": [],
   "source": [
    "X_train2 = X_train\n",
    "X_test2= X_test"
   ]
  },
  {
   "cell_type": "code",
   "execution_count": 145,
   "id": "e35060d9",
   "metadata": {},
   "outputs": [
    {
     "data": {
      "text/html": [
       "<style>#sk-container-id-19 {color: black;background-color: white;}#sk-container-id-19 pre{padding: 0;}#sk-container-id-19 div.sk-toggleable {background-color: white;}#sk-container-id-19 label.sk-toggleable__label {cursor: pointer;display: block;width: 100%;margin-bottom: 0;padding: 0.3em;box-sizing: border-box;text-align: center;}#sk-container-id-19 label.sk-toggleable__label-arrow:before {content: \"▸\";float: left;margin-right: 0.25em;color: #696969;}#sk-container-id-19 label.sk-toggleable__label-arrow:hover:before {color: black;}#sk-container-id-19 div.sk-estimator:hover label.sk-toggleable__label-arrow:before {color: black;}#sk-container-id-19 div.sk-toggleable__content {max-height: 0;max-width: 0;overflow: hidden;text-align: left;background-color: #f0f8ff;}#sk-container-id-19 div.sk-toggleable__content pre {margin: 0.2em;color: black;border-radius: 0.25em;background-color: #f0f8ff;}#sk-container-id-19 input.sk-toggleable__control:checked~div.sk-toggleable__content {max-height: 200px;max-width: 100%;overflow: auto;}#sk-container-id-19 input.sk-toggleable__control:checked~label.sk-toggleable__label-arrow:before {content: \"▾\";}#sk-container-id-19 div.sk-estimator input.sk-toggleable__control:checked~label.sk-toggleable__label {background-color: #d4ebff;}#sk-container-id-19 div.sk-label input.sk-toggleable__control:checked~label.sk-toggleable__label {background-color: #d4ebff;}#sk-container-id-19 input.sk-hidden--visually {border: 0;clip: rect(1px 1px 1px 1px);clip: rect(1px, 1px, 1px, 1px);height: 1px;margin: -1px;overflow: hidden;padding: 0;position: absolute;width: 1px;}#sk-container-id-19 div.sk-estimator {font-family: monospace;background-color: #f0f8ff;border: 1px dotted black;border-radius: 0.25em;box-sizing: border-box;margin-bottom: 0.5em;}#sk-container-id-19 div.sk-estimator:hover {background-color: #d4ebff;}#sk-container-id-19 div.sk-parallel-item::after {content: \"\";width: 100%;border-bottom: 1px solid gray;flex-grow: 1;}#sk-container-id-19 div.sk-label:hover label.sk-toggleable__label {background-color: #d4ebff;}#sk-container-id-19 div.sk-serial::before {content: \"\";position: absolute;border-left: 1px solid gray;box-sizing: border-box;top: 0;bottom: 0;left: 50%;z-index: 0;}#sk-container-id-19 div.sk-serial {display: flex;flex-direction: column;align-items: center;background-color: white;padding-right: 0.2em;padding-left: 0.2em;position: relative;}#sk-container-id-19 div.sk-item {position: relative;z-index: 1;}#sk-container-id-19 div.sk-parallel {display: flex;align-items: stretch;justify-content: center;background-color: white;position: relative;}#sk-container-id-19 div.sk-item::before, #sk-container-id-19 div.sk-parallel-item::before {content: \"\";position: absolute;border-left: 1px solid gray;box-sizing: border-box;top: 0;bottom: 0;left: 50%;z-index: -1;}#sk-container-id-19 div.sk-parallel-item {display: flex;flex-direction: column;z-index: 1;position: relative;background-color: white;}#sk-container-id-19 div.sk-parallel-item:first-child::after {align-self: flex-end;width: 50%;}#sk-container-id-19 div.sk-parallel-item:last-child::after {align-self: flex-start;width: 50%;}#sk-container-id-19 div.sk-parallel-item:only-child::after {width: 0;}#sk-container-id-19 div.sk-dashed-wrapped {border: 1px dashed gray;margin: 0 0.4em 0.5em 0.4em;box-sizing: border-box;padding-bottom: 0.4em;background-color: white;}#sk-container-id-19 div.sk-label label {font-family: monospace;font-weight: bold;display: inline-block;line-height: 1.2em;}#sk-container-id-19 div.sk-label-container {text-align: center;}#sk-container-id-19 div.sk-container {/* jupyter's `normalize.less` sets `[hidden] { display: none; }` but bootstrap.min.css set `[hidden] { display: none !important; }` so we also need the `!important` here to be able to override the default hidden behavior on the sphinx rendered scikit-learn.org. See: https://github.com/scikit-learn/scikit-learn/issues/21755 */display: inline-block !important;position: relative;}#sk-container-id-19 div.sk-text-repr-fallback {display: none;}</style><div id=\"sk-container-id-19\" class=\"sk-top-container\"><div class=\"sk-text-repr-fallback\"><pre>LogisticRegression()</pre><b>In a Jupyter environment, please rerun this cell to show the HTML representation or trust the notebook. <br />On GitHub, the HTML representation is unable to render, please try loading this page with nbviewer.org.</b></div><div class=\"sk-container\" hidden><div class=\"sk-item\"><div class=\"sk-estimator sk-toggleable\"><input class=\"sk-toggleable__control sk-hidden--visually\" id=\"sk-estimator-id-23\" type=\"checkbox\" checked><label for=\"sk-estimator-id-23\" class=\"sk-toggleable__label sk-toggleable__label-arrow\">LogisticRegression</label><div class=\"sk-toggleable__content\"><pre>LogisticRegression()</pre></div></div></div></div></div>"
      ],
      "text/plain": [
       "LogisticRegression()"
      ]
     },
     "execution_count": 145,
     "metadata": {},
     "output_type": "execute_result"
    }
   ],
   "source": [
    "model2 = LogisticRegression()\n",
    "model2.fit(X_train2, y_train[\"seasonal_vaccine\"])"
   ]
  },
  {
   "cell_type": "code",
   "execution_count": 146,
   "id": "51cffdac",
   "metadata": {},
   "outputs": [],
   "source": [
    "df_test = pd.read_csv(\"test_set_features.csv\")"
   ]
  },
  {
   "cell_type": "code",
   "execution_count": 147,
   "id": "f6c5b2fb",
   "metadata": {},
   "outputs": [],
   "source": [
    "df_test_id = df_test[\"respondent_id\"]"
   ]
  },
  {
   "cell_type": "code",
   "execution_count": 148,
   "id": "f8b0585b",
   "metadata": {},
   "outputs": [
    {
     "data": {
      "text/plain": [
       "respondent_id                      0\n",
       "xyz_concern                       85\n",
       "xyz_knowledge                    122\n",
       "behavioral_antiviral_meds         79\n",
       "behavioral_avoidance             213\n",
       "behavioral_face_mask              19\n",
       "behavioral_wash_hands             40\n",
       "behavioral_large_gatherings       72\n",
       "behavioral_outside_home           82\n",
       "behavioral_touch_face            128\n",
       "doctor_recc_xyz                 2160\n",
       "doctor_recc_seasonal            2160\n",
       "chronic_med_condition            932\n",
       "child_under_6_months             813\n",
       "health_worker                    789\n",
       "health_insurance               12228\n",
       "opinion_xyz_vacc_effective       398\n",
       "opinion_xyz_risk                 380\n",
       "opinion_xyz_sick_from_vacc       375\n",
       "opinion_seas_vacc_effective      452\n",
       "opinion_seas_risk                499\n",
       "opinion_seas_sick_from_vacc      521\n",
       "age_group                          0\n",
       "education                       1407\n",
       "race                               0\n",
       "sex                                0\n",
       "income_poverty                  4497\n",
       "marital_status                  1442\n",
       "rent_or_own                     2036\n",
       "employment_status               1471\n",
       "hhs_geo_region                     0\n",
       "census_msa                         0\n",
       "household_adults                 225\n",
       "household_children               225\n",
       "employment_industry            13275\n",
       "employment_occupation          13426\n",
       "dtype: int64"
      ]
     },
     "execution_count": 148,
     "metadata": {},
     "output_type": "execute_result"
    }
   ],
   "source": [
    "df_test.isnull().sum()"
   ]
  },
  {
   "cell_type": "code",
   "execution_count": 149,
   "id": "8da0f168",
   "metadata": {},
   "outputs": [],
   "source": [
    "label_en = LabelEncoder()\n",
    "\n",
    "\n",
    "for i in categorical_feac:\n",
    "    label = label_en.fit_transform(df_test[i])\n",
    "    df_test.drop(i, axis=1, inplace=True)\n",
    "    df_test[i] = label"
   ]
  },
  {
   "cell_type": "code",
   "execution_count": 150,
   "id": "7e5e4eda",
   "metadata": {},
   "outputs": [
    {
     "data": {
      "text/plain": [
       "age_group                0\n",
       "education                0\n",
       "race                     0\n",
       "sex                      0\n",
       "income_poverty           0\n",
       "marital_status           0\n",
       "rent_or_own              0\n",
       "employment_status        0\n",
       "hhs_geo_region           0\n",
       "census_msa               0\n",
       "employment_industry      0\n",
       "employment_occupation    0\n",
       "dtype: int64"
      ]
     },
     "execution_count": 150,
     "metadata": {},
     "output_type": "execute_result"
    }
   ],
   "source": [
    "df_test[categorical_feac].isnull().sum()"
   ]
  },
  {
   "cell_type": "code",
   "execution_count": 151,
   "id": "e3f11ffd",
   "metadata": {},
   "outputs": [],
   "source": [
    "df_test[numerical_feac] = pd.DataFrame(numerical_transformer.fit_transform(df_test[numerical_feac]),columns=numerical_feac)"
   ]
  },
  {
   "cell_type": "markdown",
   "id": "363be05a",
   "metadata": {},
   "source": [
    "Checking the Null Values for Numerical Variables again"
   ]
  },
  {
   "cell_type": "code",
   "execution_count": 152,
   "id": "6331bdee",
   "metadata": {},
   "outputs": [
    {
     "data": {
      "text/plain": [
       "respondent_id                  0\n",
       "xyz_concern                    0\n",
       "xyz_knowledge                  0\n",
       "behavioral_antiviral_meds      0\n",
       "behavioral_avoidance           0\n",
       "behavioral_face_mask           0\n",
       "behavioral_wash_hands          0\n",
       "behavioral_large_gatherings    0\n",
       "behavioral_outside_home        0\n",
       "behavioral_touch_face          0\n",
       "doctor_recc_xyz                0\n",
       "doctor_recc_seasonal           0\n",
       "chronic_med_condition          0\n",
       "child_under_6_months           0\n",
       "health_worker                  0\n",
       "health_insurance               0\n",
       "opinion_xyz_vacc_effective     0\n",
       "opinion_xyz_risk               0\n",
       "opinion_xyz_sick_from_vacc     0\n",
       "opinion_seas_vacc_effective    0\n",
       "opinion_seas_risk              0\n",
       "opinion_seas_sick_from_vacc    0\n",
       "household_adults               0\n",
       "household_children             0\n",
       "dtype: int64"
      ]
     },
     "execution_count": 152,
     "metadata": {},
     "output_type": "execute_result"
    }
   ],
   "source": [
    "df_test[numerical_feac].isnull().sum()"
   ]
  },
  {
   "cell_type": "code",
   "execution_count": 153,
   "id": "a88a2bbf",
   "metadata": {},
   "outputs": [],
   "source": [
    "df_test1 = df_test.drop([\"respondent_id\"],axis=1)\n"
   ]
  },
  {
   "cell_type": "code",
   "execution_count": 154,
   "id": "490c6059",
   "metadata": {},
   "outputs": [
    {
     "name": "stdout",
     "output_type": "stream",
     "text": [
      "ROC AUC for xyz_vaccine: 0.8324219045457982\n",
      "ROC AUC for seasonal_vaccine: 0.8504296102608003\n",
      "Mean ROC AUC: 0.8414257574032993\n"
     ]
    }
   ],
   "source": [
    "from sklearn.metrics import roc_auc_score\n",
    "val_preds_xyz = model1.predict_proba(X_test)[:, 1]\n",
    "val_preds_seasonal = model2.predict_proba(X_test2)[:, 1]\n",
    "\n",
    "\n",
    "roc_auc_xyz = roc_auc_score(y_test['xyz_vaccine'], val_preds_xyz)\n",
    "\n",
    "roc_auc_seasonal = roc_auc_score(y_test['seasonal_vaccine'], val_preds_seasonal)\n",
    "print(f'ROC AUC for xyz_vaccine: {roc_auc_xyz}')\n",
    "print(f'ROC AUC for seasonal_vaccine: {roc_auc_seasonal}')\n",
    "\n",
    "\n",
    "\n",
    "print(f'Mean ROC AUC: {(roc_auc_xyz + roc_auc_seasonal) / 2}')"
   ]
  },
  {
   "cell_type": "markdown",
   "id": "121e2eff",
   "metadata": {},
   "source": [
    "# ROC AUC Score Logistic Regression:\n",
    "\n",
    "\n",
    "        1. for model1 ROC AUC Score is  0.8324219045457982\n",
    "        2. for model2 ROC AUC Score is  0.8504296102608003\n",
    "        3. Avg Score is  0.8414257574032993"
   ]
  },
  {
   "cell_type": "markdown",
   "id": "40c4f3b7",
   "metadata": {},
   "source": [
    "# SVM (try)\n",
    "\n",
    "    This is just for experimentation "
   ]
  },
  {
   "cell_type": "code",
   "execution_count": 155,
   "id": "b0f6df07",
   "metadata": {},
   "outputs": [
    {
     "data": {
      "text/html": [
       "<style>#sk-container-id-20 {color: black;background-color: white;}#sk-container-id-20 pre{padding: 0;}#sk-container-id-20 div.sk-toggleable {background-color: white;}#sk-container-id-20 label.sk-toggleable__label {cursor: pointer;display: block;width: 100%;margin-bottom: 0;padding: 0.3em;box-sizing: border-box;text-align: center;}#sk-container-id-20 label.sk-toggleable__label-arrow:before {content: \"▸\";float: left;margin-right: 0.25em;color: #696969;}#sk-container-id-20 label.sk-toggleable__label-arrow:hover:before {color: black;}#sk-container-id-20 div.sk-estimator:hover label.sk-toggleable__label-arrow:before {color: black;}#sk-container-id-20 div.sk-toggleable__content {max-height: 0;max-width: 0;overflow: hidden;text-align: left;background-color: #f0f8ff;}#sk-container-id-20 div.sk-toggleable__content pre {margin: 0.2em;color: black;border-radius: 0.25em;background-color: #f0f8ff;}#sk-container-id-20 input.sk-toggleable__control:checked~div.sk-toggleable__content {max-height: 200px;max-width: 100%;overflow: auto;}#sk-container-id-20 input.sk-toggleable__control:checked~label.sk-toggleable__label-arrow:before {content: \"▾\";}#sk-container-id-20 div.sk-estimator input.sk-toggleable__control:checked~label.sk-toggleable__label {background-color: #d4ebff;}#sk-container-id-20 div.sk-label input.sk-toggleable__control:checked~label.sk-toggleable__label {background-color: #d4ebff;}#sk-container-id-20 input.sk-hidden--visually {border: 0;clip: rect(1px 1px 1px 1px);clip: rect(1px, 1px, 1px, 1px);height: 1px;margin: -1px;overflow: hidden;padding: 0;position: absolute;width: 1px;}#sk-container-id-20 div.sk-estimator {font-family: monospace;background-color: #f0f8ff;border: 1px dotted black;border-radius: 0.25em;box-sizing: border-box;margin-bottom: 0.5em;}#sk-container-id-20 div.sk-estimator:hover {background-color: #d4ebff;}#sk-container-id-20 div.sk-parallel-item::after {content: \"\";width: 100%;border-bottom: 1px solid gray;flex-grow: 1;}#sk-container-id-20 div.sk-label:hover label.sk-toggleable__label {background-color: #d4ebff;}#sk-container-id-20 div.sk-serial::before {content: \"\";position: absolute;border-left: 1px solid gray;box-sizing: border-box;top: 0;bottom: 0;left: 50%;z-index: 0;}#sk-container-id-20 div.sk-serial {display: flex;flex-direction: column;align-items: center;background-color: white;padding-right: 0.2em;padding-left: 0.2em;position: relative;}#sk-container-id-20 div.sk-item {position: relative;z-index: 1;}#sk-container-id-20 div.sk-parallel {display: flex;align-items: stretch;justify-content: center;background-color: white;position: relative;}#sk-container-id-20 div.sk-item::before, #sk-container-id-20 div.sk-parallel-item::before {content: \"\";position: absolute;border-left: 1px solid gray;box-sizing: border-box;top: 0;bottom: 0;left: 50%;z-index: -1;}#sk-container-id-20 div.sk-parallel-item {display: flex;flex-direction: column;z-index: 1;position: relative;background-color: white;}#sk-container-id-20 div.sk-parallel-item:first-child::after {align-self: flex-end;width: 50%;}#sk-container-id-20 div.sk-parallel-item:last-child::after {align-self: flex-start;width: 50%;}#sk-container-id-20 div.sk-parallel-item:only-child::after {width: 0;}#sk-container-id-20 div.sk-dashed-wrapped {border: 1px dashed gray;margin: 0 0.4em 0.5em 0.4em;box-sizing: border-box;padding-bottom: 0.4em;background-color: white;}#sk-container-id-20 div.sk-label label {font-family: monospace;font-weight: bold;display: inline-block;line-height: 1.2em;}#sk-container-id-20 div.sk-label-container {text-align: center;}#sk-container-id-20 div.sk-container {/* jupyter's `normalize.less` sets `[hidden] { display: none; }` but bootstrap.min.css set `[hidden] { display: none !important; }` so we also need the `!important` here to be able to override the default hidden behavior on the sphinx rendered scikit-learn.org. See: https://github.com/scikit-learn/scikit-learn/issues/21755 */display: inline-block !important;position: relative;}#sk-container-id-20 div.sk-text-repr-fallback {display: none;}</style><div id=\"sk-container-id-20\" class=\"sk-top-container\"><div class=\"sk-text-repr-fallback\"><pre>SVC(C=100, gamma=0.01, probability=True)</pre><b>In a Jupyter environment, please rerun this cell to show the HTML representation or trust the notebook. <br />On GitHub, the HTML representation is unable to render, please try loading this page with nbviewer.org.</b></div><div class=\"sk-container\" hidden><div class=\"sk-item\"><div class=\"sk-estimator sk-toggleable\"><input class=\"sk-toggleable__control sk-hidden--visually\" id=\"sk-estimator-id-24\" type=\"checkbox\" checked><label for=\"sk-estimator-id-24\" class=\"sk-toggleable__label sk-toggleable__label-arrow\">SVC</label><div class=\"sk-toggleable__content\"><pre>SVC(C=100, gamma=0.01, probability=True)</pre></div></div></div></div></div>"
      ],
      "text/plain": [
       "SVC(C=100, gamma=0.01, probability=True)"
      ]
     },
     "execution_count": 155,
     "metadata": {},
     "output_type": "execute_result"
    }
   ],
   "source": [
    "from sklearn.svm import SVC\n",
    "model4 = SVC(C=100,gamma=0.01,probability= True,kernel=\"rbf\")\n",
    "model3 = SVC(C=100,gamma=0.01,probability= True,kernel=\"rbf\")\n",
    "model4.fit(X_train_cpy,y_train[\"xyz_vaccine\"])\n",
    "model3.fit(X_train_cpy,y_train[\"seasonal_vaccine\"])\n"
   ]
  },
  {
   "cell_type": "code",
   "execution_count": 156,
   "id": "580b0cd1",
   "metadata": {},
   "outputs": [
    {
     "name": "stdout",
     "output_type": "stream",
     "text": [
      "Mean ROC AUC 1: 0.8287125280488113\n",
      "Mean ROC AUC 2: 0.8543996400709527\n"
     ]
    }
   ],
   "source": [
    "val_preds_SVM = model4.predict_proba(X_test)[:, 1]\n",
    "val_preds_SVM2 = model3.predict_proba(X_test)[:, 1]\n",
    "\n",
    "roc_auc_SVM = roc_auc_score(y_test['xyz_vaccine'], val_preds_SVM)\n",
    "roc_auc_SVM2 = roc_auc_score(y_test['seasonal_vaccine'], val_preds_SVM2)\n",
    "\n",
    "print(f'Mean ROC AUC 1: {(roc_auc_SVM)}')\n",
    "print(f'Mean ROC AUC 2: {(roc_auc_SVM2)}')"
   ]
  },
  {
   "cell_type": "markdown",
   "id": "4b414d1d",
   "metadata": {},
   "source": [
    "# Random Forest Classifier:\n",
    "\n",
    " Here I tried to implement the Random Forest from the  scklitlearn library"
   ]
  },
  {
   "cell_type": "code",
   "execution_count": 157,
   "id": "db9f9b21",
   "metadata": {},
   "outputs": [],
   "source": [
    "from sklearn.ensemble import RandomForestClassifier"
   ]
  },
  {
   "cell_type": "code",
   "execution_count": 158,
   "id": "67412dbe",
   "metadata": {},
   "outputs": [],
   "source": [
    "model5 = RandomForestClassifier(n_estimators = 100)\n",
    "model6 = RandomForestClassifier(n_estimators = 100) "
   ]
  },
  {
   "cell_type": "code",
   "execution_count": 159,
   "id": "8d3545b0",
   "metadata": {},
   "outputs": [
    {
     "data": {
      "text/html": [
       "<style>#sk-container-id-21 {color: black;background-color: white;}#sk-container-id-21 pre{padding: 0;}#sk-container-id-21 div.sk-toggleable {background-color: white;}#sk-container-id-21 label.sk-toggleable__label {cursor: pointer;display: block;width: 100%;margin-bottom: 0;padding: 0.3em;box-sizing: border-box;text-align: center;}#sk-container-id-21 label.sk-toggleable__label-arrow:before {content: \"▸\";float: left;margin-right: 0.25em;color: #696969;}#sk-container-id-21 label.sk-toggleable__label-arrow:hover:before {color: black;}#sk-container-id-21 div.sk-estimator:hover label.sk-toggleable__label-arrow:before {color: black;}#sk-container-id-21 div.sk-toggleable__content {max-height: 0;max-width: 0;overflow: hidden;text-align: left;background-color: #f0f8ff;}#sk-container-id-21 div.sk-toggleable__content pre {margin: 0.2em;color: black;border-radius: 0.25em;background-color: #f0f8ff;}#sk-container-id-21 input.sk-toggleable__control:checked~div.sk-toggleable__content {max-height: 200px;max-width: 100%;overflow: auto;}#sk-container-id-21 input.sk-toggleable__control:checked~label.sk-toggleable__label-arrow:before {content: \"▾\";}#sk-container-id-21 div.sk-estimator input.sk-toggleable__control:checked~label.sk-toggleable__label {background-color: #d4ebff;}#sk-container-id-21 div.sk-label input.sk-toggleable__control:checked~label.sk-toggleable__label {background-color: #d4ebff;}#sk-container-id-21 input.sk-hidden--visually {border: 0;clip: rect(1px 1px 1px 1px);clip: rect(1px, 1px, 1px, 1px);height: 1px;margin: -1px;overflow: hidden;padding: 0;position: absolute;width: 1px;}#sk-container-id-21 div.sk-estimator {font-family: monospace;background-color: #f0f8ff;border: 1px dotted black;border-radius: 0.25em;box-sizing: border-box;margin-bottom: 0.5em;}#sk-container-id-21 div.sk-estimator:hover {background-color: #d4ebff;}#sk-container-id-21 div.sk-parallel-item::after {content: \"\";width: 100%;border-bottom: 1px solid gray;flex-grow: 1;}#sk-container-id-21 div.sk-label:hover label.sk-toggleable__label {background-color: #d4ebff;}#sk-container-id-21 div.sk-serial::before {content: \"\";position: absolute;border-left: 1px solid gray;box-sizing: border-box;top: 0;bottom: 0;left: 50%;z-index: 0;}#sk-container-id-21 div.sk-serial {display: flex;flex-direction: column;align-items: center;background-color: white;padding-right: 0.2em;padding-left: 0.2em;position: relative;}#sk-container-id-21 div.sk-item {position: relative;z-index: 1;}#sk-container-id-21 div.sk-parallel {display: flex;align-items: stretch;justify-content: center;background-color: white;position: relative;}#sk-container-id-21 div.sk-item::before, #sk-container-id-21 div.sk-parallel-item::before {content: \"\";position: absolute;border-left: 1px solid gray;box-sizing: border-box;top: 0;bottom: 0;left: 50%;z-index: -1;}#sk-container-id-21 div.sk-parallel-item {display: flex;flex-direction: column;z-index: 1;position: relative;background-color: white;}#sk-container-id-21 div.sk-parallel-item:first-child::after {align-self: flex-end;width: 50%;}#sk-container-id-21 div.sk-parallel-item:last-child::after {align-self: flex-start;width: 50%;}#sk-container-id-21 div.sk-parallel-item:only-child::after {width: 0;}#sk-container-id-21 div.sk-dashed-wrapped {border: 1px dashed gray;margin: 0 0.4em 0.5em 0.4em;box-sizing: border-box;padding-bottom: 0.4em;background-color: white;}#sk-container-id-21 div.sk-label label {font-family: monospace;font-weight: bold;display: inline-block;line-height: 1.2em;}#sk-container-id-21 div.sk-label-container {text-align: center;}#sk-container-id-21 div.sk-container {/* jupyter's `normalize.less` sets `[hidden] { display: none; }` but bootstrap.min.css set `[hidden] { display: none !important; }` so we also need the `!important` here to be able to override the default hidden behavior on the sphinx rendered scikit-learn.org. See: https://github.com/scikit-learn/scikit-learn/issues/21755 */display: inline-block !important;position: relative;}#sk-container-id-21 div.sk-text-repr-fallback {display: none;}</style><div id=\"sk-container-id-21\" class=\"sk-top-container\"><div class=\"sk-text-repr-fallback\"><pre>RandomForestClassifier()</pre><b>In a Jupyter environment, please rerun this cell to show the HTML representation or trust the notebook. <br />On GitHub, the HTML representation is unable to render, please try loading this page with nbviewer.org.</b></div><div class=\"sk-container\" hidden><div class=\"sk-item\"><div class=\"sk-estimator sk-toggleable\"><input class=\"sk-toggleable__control sk-hidden--visually\" id=\"sk-estimator-id-25\" type=\"checkbox\" checked><label for=\"sk-estimator-id-25\" class=\"sk-toggleable__label sk-toggleable__label-arrow\">RandomForestClassifier</label><div class=\"sk-toggleable__content\"><pre>RandomForestClassifier()</pre></div></div></div></div></div>"
      ],
      "text/plain": [
       "RandomForestClassifier()"
      ]
     },
     "execution_count": 159,
     "metadata": {},
     "output_type": "execute_result"
    }
   ],
   "source": [
    "model5.fit(X_train2,y_train[\"xyz_vaccine\"])\n",
    "model6.fit(X_train2,y_train[\"seasonal_vaccine\"])"
   ]
  },
  {
   "cell_type": "code",
   "execution_count": 160,
   "id": "6925f7a9",
   "metadata": {},
   "outputs": [
    {
     "name": "stdout",
     "output_type": "stream",
     "text": [
      "ROC AUC for xyz_vaccine: 0.862072754624377\n",
      "ROC AUC for seasonal_vaccine: 0.8583089149192029\n"
     ]
    }
   ],
   "source": [
    "from sklearn.metrics import roc_auc_score\n",
    "val_preds_rdmf = model5.predict_proba(X_test)[:, 1]\n",
    "val_preds_rdmf2 = model6.predict_proba(X_test)[:, 1]\n",
    "\n",
    "\n",
    "roc_auc_rdmf = roc_auc_score(y_test[\"xyz_vaccine\"], val_preds_rdmf)\n",
    "roc_auc_rdmf2 = roc_auc_score(y_test[\"seasonal_vaccine\"], val_preds_rdmf2)\n",
    "print(f'ROC AUC for xyz_vaccine: {roc_auc_rdmf}')\n",
    "print(f'ROC AUC for seasonal_vaccine: {roc_auc_rdmf2}')\n"
   ]
  },
  {
   "cell_type": "markdown",
   "id": "ba1e009f",
   "metadata": {},
   "source": [
    "#  ROC AUC Score Summary (All Models):\n",
    "       for Logistis Regression:\n",
    "           model 1 (xyz_vaccine) : 0.8324219045457982\n",
    "           model 2(Seasonal vaccine) : 0.8504296102608003\n",
    "           avg : 0.8414257574032993\n",
    "           \n",
    "           \n",
    "       for SVM :\n",
    "           model 3 (xyz_vaccine): 0.8287291262217517\n",
    "           model 4(Seasonal vaccine): 0.854396535287766\n",
    "       \n",
    "       \n",
    "       \n",
    "       for Random Forest Classifier :\n",
    "           model 5(xyz_vaccine) : 0.8638627310087487\n",
    "           model 6(seasonal_vaccine): 0.856239647488562\n",
    "           \n",
    "           \n",
    "           \n",
    "           \n",
    "           \n",
    "       So the best probable Classification models for this data set are model 5 and model6"
   ]
  },
  {
   "cell_type": "code",
   "execution_count": 161,
   "id": "a853ada5",
   "metadata": {},
   "outputs": [],
   "source": [
    "test_xyz = model5.predict_proba(df_test1)[:, 1]\n",
    "test_seasonal = model6.predict_proba(df_test1)[:, 1]"
   ]
  },
  {
   "cell_type": "code",
   "execution_count": 162,
   "id": "35586bb9",
   "metadata": {},
   "outputs": [],
   "source": [
    "submission = pd.DataFrame({\n",
    "    'respondent_id': df_test_id,\n",
    "    'xyz_vaccine': test_xyz,\n",
    "    'seasonal_vaccine': test_seasonal\n",
    "})\n",
    "\n",
    "\n",
    "# Saving submission to CSV\n",
    "submission.to_csv('final_submission.csv', index=False)"
   ]
  },
  {
   "cell_type": "code",
   "execution_count": null,
   "id": "5a28eda5",
   "metadata": {},
   "outputs": [],
   "source": []
  }
 ],
 "metadata": {
  "kernelspec": {
   "display_name": "Python 3 (ipykernel)",
   "language": "python",
   "name": "python3"
  },
  "language_info": {
   "codemirror_mode": {
    "name": "ipython",
    "version": 3
   },
   "file_extension": ".py",
   "mimetype": "text/x-python",
   "name": "python",
   "nbconvert_exporter": "python",
   "pygments_lexer": "ipython3",
   "version": "3.11.7"
  }
 },
 "nbformat": 4,
 "nbformat_minor": 5
}
